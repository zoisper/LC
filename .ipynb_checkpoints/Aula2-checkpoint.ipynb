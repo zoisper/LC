{
 "cells": [
  {
   "cell_type": "markdown",
   "metadata": {
    "id": "4ViWqhHYJfM9"
   },
   "source": [
    "# Programação Inteira com SCIP"
   ]
  },
  {
   "cell_type": "markdown",
   "metadata": {
    "id": "ij9tA9biGC6N"
   },
   "source": [
    "## Brevíssima introdução à utilização do SCIP em Python"
   ]
  },
  {
   "cell_type": "markdown",
   "metadata": {
    "id": "n-zaL1cOKGTR"
   },
   "source": [
    "Nesta UC usaremos a biblioteca [OR-Tools](https://developers.google.com/optimization) para fazer a interface para o SCIP. Esta biblioteca pode ser instalada com o commando `pip install ortools`."
   ]
  },
  {
   "cell_type": "code",
   "execution_count": null,
   "metadata": {
    "id": "A79dpIe8Ltgt"
   },
   "outputs": [],
   "source": [
    "!pip install ortools"
   ]
  },
  {
   "cell_type": "markdown",
   "metadata": {
    "id": "rg7xo6f-GC6O"
   },
   "source": [
    "A documentação do OR-Tools pode ser encontrada em https://developers.google.com/optimization/introduction/overview.\n",
    "\n",
    "Para resolver um problema de programação inteira com esta biblioteca é necessário seguir uma série de passos:\n",
    "1. Importar a biblioteca de programação linear do OR-Tools usando o comando `from ortools.linear_solver import pywraplp`\n",
    "1. Criar uma instância do *solver* com o método `pywraplp.Solver.CreateSolver('SCIP')`.\n",
    "1. Adicionar as variáveis do problema. Para criar uma variável inteira deve ser usado o método `IntVar` que recebe 3 parâmetros: o limite inferior, o limite superior, e o nome da variável. Na definição dos limites pode ser usada a constante `solver.infinity()`. O método `NumVar` pode ser usado para criar uma variável contínua, e o método `BoolVar` para criar uma variável inteira binária. Neste último caso, o método só tem um parâmetro que é o nome da variável, sendo os limites pré-definidos como 0 e 1.\n",
    "1. Adicionar as restrições do problema usando o método `Add`. A restrição é definida com a sintaxe normal Python, podendo também ser usada a função `sum` para fazer o somatório de uma lista de expressões aritméticas.\n",
    "1. Definir o objectivo do problema com os métodos `Maximize` ou `Minimize`, que recebem como parâmetro a função objectivo. Mais uma vez a função objectivo é definida com a sintaxe usual do Python. Este passo é opcional: se não for definido um objectivo será calculada uma qualquer solução.\n",
    "1. Invocar o solver com o método `Solve`. Este método pode devolver um dos seguintes códigos:\n",
    "  - `pywraplp.Solver.OPTIMAL`, quando é possível resolver o problema.\n",
    "  - `pywraplp.Solver.INFEASIBLE`, quando não é possível resolver o problema.\n",
    "  - `pywraplp.Solver.UNBOUNDED`, quando a solução não está limitada superiormente (no caso do `Maximize`) ou inferiormente (no caso do `Minimize`).\n",
    "1. Interpretar os resultados no caso do resultado ser `pywraplp.Solver.OPTIMAL`. Para saber o valor de uma variável pode ser usado o método `solution_value`, que devolve sempre um `double`. Também é possível aceder à função objectivo com o método `Objective` e ao respectivo valor com o método `Value`. Para converter o valor do tipo `double` para um `int` deve ser usada a função `round`, pois o valor pode sofrer de pequenos erros de precisão."
   ]
  },
  {
   "cell_type": "markdown",
   "metadata": {
    "id": "hfx0A5stGC6R"
   },
   "source": [
    "Por exemplo, o programa seguinte tenta encontrar $x$ e $y$ que minimizem $3x+4y$ satisfazendo as seguintes restrições:\n",
    "\n",
    "$$\n",
    "\\left\\{\n",
    "\\begin{array}{l}\n",
    "5x + 6y \\ge 11\\\\\n",
    "7x + 5y \\ge 5\\\\\n",
    "x \\ge 0\\\\\n",
    "y \\ge 0\n",
    "\\end{array}\n",
    "\\right.\n",
    "$$"
   ]
  },
  {
   "cell_type": "code",
   "execution_count": null,
   "metadata": {
    "colab": {
     "base_uri": "https://localhost:8080/"
    },
    "id": "awnqPLT_GC6R",
    "outputId": "f9e8d152-8723-4727-9861-911e93590277"
   },
   "outputs": [
    {
     "name": "stdout",
     "output_type": "stream",
     "text": [
      "x =  1\n",
      "y =  1\n",
      "objectivo =  7\n"
     ]
    }
   ],
   "source": [
    "# Importar biblioteca\n",
    "from ortools.linear_solver import pywraplp\n",
    "# Criar instância do solver\n",
    "solver = pywraplp.Solver.CreateSolver('SCIP')\n",
    "# Adicionar variáveis\n",
    "x = solver.IntVar(0.0,solver.infinity(),\"x\")\n",
    "y = solver.IntVar(0.0,solver.infinity(),\"y\")\n",
    "# Adicionar restrições\n",
    "solver.Add(5*x + 6*y >= 11)\n",
    "solver.Add(7*x + 5*y >= 5)\n",
    "# Definir objectivo\n",
    "solver.Minimize(3*x + 4*y)\n",
    "# Invocar o solver\n",
    "status = solver.Solve()\n",
    "# Interpretar os resultados\n",
    "if status == pywraplp.Solver.OPTIMAL:\n",
    "    print (\"x = \",round(x.solution_value()))\n",
    "    print (\"y = \",round(y.solution_value()))\n",
    "    print (\"objectivo = \",round(solver.Objective().Value()))"
   ]
  },
  {
   "cell_type": "markdown",
   "metadata": {
    "id": "oBG75TRiTXL8"
   },
   "source": [
    "## Grafos coloridos em `NetworkX`"
   ]
  },
  {
   "cell_type": "markdown",
   "metadata": {
    "id": "BueC62giTl4U"
   },
   "source": [
    "Os vértices e as arestas de um grafo em `NetworkX` podem ter atributos. Por exemplo, podemos usar o atributo `color` para definir a cor de cada vértice. Os atributos podem ser definidos de muitas formas, por exemplo, usando a função `set_node_attributes`. O código seguinte começa por gerar o grafo de Petersen, um conhecido grafo com 10 vértices (https://en.wikipedia.org/wiki/Petersen_graph), usando a função `petersen_graph`. Depois define o atributo `color` de todos os vértices com a cor `red`."
   ]
  },
  {
   "cell_type": "code",
   "execution_count": null,
   "metadata": {
    "id": "7HVRBpfFTrbB"
   },
   "outputs": [],
   "source": [
    "import networkx as nx\n",
    "\n",
    "petersen = nx.petersen_graph()\n",
    "nx.set_node_attributes(petersen,'red','color')\n",
    "print(petersen.nodes.data())"
   ]
  },
  {
   "cell_type": "markdown",
   "metadata": {
    "id": "Cp8-qcoRT21x"
   },
   "source": [
    "É possível alterar ou acrescentar um atributo a um vértice acedendo ao respectivo dicionário de atributos."
   ]
  },
  {
   "cell_type": "code",
   "execution_count": null,
   "metadata": {
    "id": "YbhcFan1T3nV"
   },
   "outputs": [],
   "source": [
    "petersen.nodes[0]['color'] = 'yellow'\n",
    "print(petersen.nodes.data())"
   ]
  },
  {
   "cell_type": "markdown",
   "metadata": {
    "id": "wa_vI0ZUUAqb"
   },
   "source": [
    "Infelizmente, a função `draw` não tem este atributo em consideração. Um dos parâmetros da função `draw` é o `node_color`, que permite definir uma cor para todos os vértices ou passar uma lista com uma cor diferente para cada vértice."
   ]
  },
  {
   "cell_type": "markdown",
   "metadata": {
    "id": "bAmRMzgoUN2Q"
   },
   "source": [
    "### Exercício 1\n",
    "\n",
    "Defina uma função `draw_with_colors` que, dado um grafo onde os vértices têm o atributo `color` definido, desenhe esse grafo tendo as cores nesse atributo em consideração."
   ]
  },
  {
   "cell_type": "code",
   "execution_count": null,
   "metadata": {
    "id": "e_8TX-gbUcFA"
   },
   "outputs": [],
   "source": [
    "def draw_with_colors(graph):\n",
    "    # completar\n",
    "\n",
    "    \n",
    "draw_with_colors(petersen)"
   ]
  },
  {
   "cell_type": "markdown",
   "metadata": {
    "id": "Tu3GOb3IUkqh"
   },
   "source": [
    "## O problema da coloração de grafos"
   ]
  },
  {
   "cell_type": "markdown",
   "metadata": {
    "id": "LFikk2ysUqLo"
   },
   "source": [
    "O problema da *coloração de grafos* (https://en.wikipedia.org/wiki/Graph_coloring) consiste em descobrir uma atribuição de cores aos vértices, de tal forma que vértices adjacentes não tenham a mesma cor. Temos duas variantes deste problema:\n",
    "- Problema de decisão: dado um grafo e um número não negativo $k$ determinar se é possível colorir o grafo com no máximo $k$ cores, devolvendo uma coloração válida se tal for possível.\n",
    "- Problema de optimização: dado um grafo determinar o menor $k$ para o qual isso é possível (o *número cromático* do grafo).\n",
    "\n",
    "Por exemplo, o grafo de Petersen tem número cromático 3."
   ]
  },
  {
   "cell_type": "markdown",
   "metadata": {
    "id": "H6GiAeqoUvXm"
   },
   "source": [
    "### Exercício 2\n",
    "\n",
    "Defina a função `valid_color` que testa se um grafo tem uma coloração válida."
   ]
  },
  {
   "cell_type": "code",
   "execution_count": null,
   "metadata": {
    "id": "pQUvdzFUU1IE"
   },
   "outputs": [],
   "source": [
    "def valid_color(graph):\n",
    "    # completar\n",
    "    \n",
    "\n",
    "    \n",
    "assert not valid_color(petersen)"
   ]
  },
  {
   "cell_type": "markdown",
   "metadata": {
    "id": "PV0z-XNHVjob"
   },
   "source": [
    "É possível definir uma função que testa se é possível colorir um grafo com $k$ cores usando uma técnica de pesquisa exaustiva."
   ]
  },
  {
   "cell_type": "code",
   "execution_count": null,
   "metadata": {
    "id": "_Yi5pRuCVlDe"
   },
   "outputs": [],
   "source": [
    "def brute_force_color(graph,k):\n",
    "    color = {}\n",
    "    # tenta-se preencher o dicionário color com uma coloração válida                  \n",
    "    if aux(graph,k,color):\n",
    "        # se for possível então transferem-se as cores\n",
    "        # para o atributo color dos nós\n",
    "        for n in graph:\n",
    "          graph.nodes[n]['color'] = color[n]\n",
    "        return True\n",
    "    else:\n",
    "        return False\n",
    "\n",
    "# função recursiva que tenta extender o dicionário\n",
    "# color (incialmente vazio) com uma coloração válida para o grafo\n",
    "def aux(graph,k,color):\n",
    "    if len(color) == len(graph):   \n",
    "        # se o dicionário já tem uma cor para cada nó então\n",
    "        # testa-se se é válida\n",
    "        for o in graph:\n",
    "            for d in graph[o]:\n",
    "                if color[o] == color[d]:\n",
    "                    return False\n",
    "        return True\n",
    "    # senão escolhe-se o próximo nó a colorir\n",
    "    v = list(graph.nodes)[len(color)]\n",
    "    for c in range(k):\n",
    "        # tenta-se colorir esse nó com uma das cores possíveis\n",
    "        color[v] = c\n",
    "        # e recursivamente tenta-se colorir os restantes e\n",
    "        # obter uma coloração válida\n",
    "        if aux(graph,k,color): \n",
    "            # se for possível termina a pesquisa\n",
    "            return True\n",
    "        # se não for possível tenta-se com outra cor\n",
    "        color.pop(v)\n",
    "    return False\n",
    "\n",
    "assert not brute_force_color(petersen,2)\n",
    "assert brute_force_color(petersen,3)\n",
    "draw_with_colors(petersen)"
   ]
  },
  {
   "cell_type": "markdown",
   "metadata": {
    "id": "fowox2I5WELo"
   },
   "source": [
    "É também possível definir uma função de ordem superior, que dado um grafo e uma função que testa se é possível colorir um grafo com $k$ cores, implementa uma solução para o problema de optimização referido acima (determinar o número cromático) testando sucessivamente todos os valores possíveis para $k$."
   ]
  },
  {
   "cell_type": "code",
   "execution_count": null,
   "metadata": {
    "id": "VXy8UdALWDkA"
   },
   "outputs": [],
   "source": [
    "def find_optimal_coloring(graph,testa):\n",
    "    k = 0\n",
    "    while not testa(graph,k):\n",
    "        k += 1\n",
    "    return k\n",
    "\n",
    "assert find_optimal_coloring(petersen,brute_force_color) == 3\n",
    "draw_with_colors(petersen)"
   ]
  },
  {
   "cell_type": "markdown",
   "metadata": {
    "id": "uaz9IY80GC6S"
   },
   "source": [
    "## Modelação da coloração de grafos com Programação Inteira"
   ]
  },
  {
   "cell_type": "markdown",
   "metadata": {
    "id": "ptsbHoklW0HS"
   },
   "source": [
    "É possível usar programação inteira para resolver o problema de colorir um grafo $(V,E)$ com $k$ cores. Para tal, vamos necessitar de $|V| \\times k$ variáveis inteiras binárias, onde a variável $x_{v,c}$ determina se o vértice $v$ tem cor $c$. Temos também as seguintes restrições:\n",
    "\n",
    "1. Para cada aresta $(o,d) \\in E$ e cor $0 <= c < k$, $o$ e $d$ não podem ter ambos a cor $c$.\n",
    "1. Cada vértice $v$ tem exactamente uma cor."
   ]
  },
  {
   "cell_type": "markdown",
   "metadata": {
    "id": "ZfSLsSWMYEbU"
   },
   "source": [
    "### Exercício 3\n",
    "\n",
    "Indique as fórmulas que modelam estas duas restrições."
   ]
  },
  {
   "cell_type": "markdown",
   "metadata": {
    "id": "8nRefQa7GC6T"
   },
   "source": [
    "### Exercício 4\n",
    "\n",
    "Defina a seguinte função que testa se é possível colorir um grafo com $k$ cores usando o OR-Tools com o *solver* SCIP. Se for possível, deve guardar a coloração no grafo (no atributo `color`). Sugere-se que use um dicionário `x` para guardar as varáveis, sendo que em `x[v][c]` será armazenada a variável $x_{v,c}$. Para criar um nome único para as variáveis sugere-se que use a [primitiva de formatação posicional do Python similar ao `printf`](https://docs.python.org/3/library/stdtypes.html#old-string-formatting). Por exemplo, pode usar a expressão `'x[%i][%i]' % (v,c)` para criar o nome para a variável em ``x[v][c]``."
   ]
  },
  {
   "cell_type": "code",
   "execution_count": null,
   "metadata": {
    "id": "SkE_1a1tGC6U"
   },
   "outputs": [],
   "source": [
    "def ip_color(graph,k):\n",
    "    # completar\n",
    "    \n",
    "    \n",
    "\n",
    "assert ip_color(petersen,3)\n",
    "draw_with_colors(petersen)"
   ]
  },
  {
   "cell_type": "markdown",
   "metadata": {
    "id": "eHP7e5c_GC6U"
   },
   "source": [
    "### Exercício 5\n",
    "\n",
    "Compare a eficiência desta solução com a implementação *brute force* acima. Sugere-se que utilize grafos completos nessa comparação, sendo que, nestes grafos, o número cromático é igual ao número de vértices."
   ]
  },
  {
   "cell_type": "code",
   "execution_count": null,
   "metadata": {
    "id": "Tj_Sc6tJZ1WB"
   },
   "outputs": [],
   "source": [
    "complete = nx.complete_graph(9)\n",
    "assert brute_force_color(complete,9)\n",
    "draw_with_colors(complete)"
   ]
  },
  {
   "cell_type": "code",
   "execution_count": null,
   "metadata": {
    "id": "ZPr4v_SZGC6V"
   },
   "outputs": [],
   "source": []
  },
  {
   "cell_type": "code",
   "execution_count": null,
   "metadata": {
    "id": "osJfdlEkaO7A"
   },
   "outputs": [],
   "source": []
  },
  {
   "cell_type": "markdown",
   "metadata": {
    "id": "g47iTWv7GC6V"
   },
   "source": [
    "### Exercício 6\n",
    "\n",
    "Como o SCIP suporta problemas de optimização em programação inteira, podemos implementar directamente o problema de optimização da coloração de grafos sem usar um método de pesquisa linear que tenta todos os possíveis números cromáticos. O objectivo deste exercício é implementar este problema em SCIP, ou seja, determinar uma coloração válida que minimize o número de cores.\n",
    "\n",
    "Sugere-se que, para além das variáveis binárias que usou no exercício 4, utilize uma variável binárias $u_c$ por cada cor $c$ possível (note que num grafo o número máximo de cores necessário será idêntico ao número de vértices). Esta variável deve ter o valor 1 sse a cor $c$ for usada nalgum vértice. Dado este conjunto de variáveis o objectivo da optimização será minimizar:\n",
    "\n",
    "$$\n",
    "\\sum_c u_c\n",
    "$$\n",
    "\n",
    "O valor de cada variável $u_c$ pode ser definido como o valor máximo das variáveis $x_{v,c}$ para todo o vértice $v$."
   ]
  },
  {
   "cell_type": "code",
   "execution_count": null,
   "metadata": {
    "id": "ESUwnG5YGC6V"
   },
   "outputs": [],
   "source": [
    "def ip_find_optimal_coloring(graph):\n",
    "    # completar\n",
    "    \n",
    "\n",
    "    \n",
    "    \n",
    "assert ip_find_optimal_coloring(petersen) == 3\n",
    "draw_with_colors(petersen)"
   ]
  },
  {
   "cell_type": "markdown",
   "metadata": {
    "id": "urOQjhDibplN"
   },
   "source": [
    "### Exercício 7\n",
    "\n",
    "Compare a eficiência deste método com o método iterativo definido acima. Mais uma vez utilize grafos completos para efectuar essa comparação."
   ]
  },
  {
   "cell_type": "code",
   "execution_count": null,
   "metadata": {
    "id": "lf4CaeXRGC6W"
   },
   "outputs": [],
   "source": []
  },
  {
   "cell_type": "code",
   "execution_count": null,
   "metadata": {
    "id": "yy2YUP9uawHs"
   },
   "outputs": [],
   "source": []
  }
 ],
 "metadata": {
  "colab": {
   "collapsed_sections": [],
   "name": "Aula2.ipynb",
   "provenance": []
  },
  "kernelspec": {
   "display_name": "Python 3 (ipykernel)",
   "language": "python",
   "name": "python3"
  },
  "language_info": {
   "codemirror_mode": {
    "name": "ipython",
    "version": 3
   },
   "file_extension": ".py",
   "mimetype": "text/x-python",
   "name": "python",
   "nbconvert_exporter": "python",
   "pygments_lexer": "ipython3",
   "version": "3.8.10"
  }
 },
 "nbformat": 4,
 "nbformat_minor": 1
}
